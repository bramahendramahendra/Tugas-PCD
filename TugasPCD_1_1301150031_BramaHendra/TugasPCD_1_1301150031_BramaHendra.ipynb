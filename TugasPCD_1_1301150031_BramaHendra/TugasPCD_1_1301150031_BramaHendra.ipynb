{
 "cells": [
  {
   "cell_type": "markdown",
   "metadata": {},
   "source": [
    "import python"
   ]
  },
  {
   "cell_type": "code",
   "execution_count": 1,
   "metadata": {},
   "outputs": [],
   "source": [
    "from tkinter import *\n",
    "from tkinter import filedialog\n",
    "from PIL import ImageTk, Image"
   ]
  },
  {
   "cell_type": "markdown",
   "metadata": {},
   "source": [
    "buat class untuk menampung function"
   ]
  },
  {
   "cell_type": "code",
   "execution_count": 2,
   "metadata": {},
   "outputs": [],
   "source": [
    "class testpcd:\n",
    "\n",
    "    def __init__(test, master): #init\n",
    "        test.master = master\n",
    "        test.gui_size = (300, 300)\n",
    "        test.gui(test.gui_size)\n",
    "        test.height = 200\n",
    "        \n",
    "    def bukagambar(test): #membuka file\n",
    "        test.dir = filedialog.askopenfilename() \n",
    "        temp = Image.open(test.dir) \n",
    "        new_size = int((float(temp.size[0])*float(test.height / float(temp.size[1])))) \n",
    "        test.img = temp.resize((new_size, test.height)) \n",
    "        test.gambar = ImageTk.PhotoImage(test.img) \n",
    "        test.canvas.delete(ALL) \n",
    "        test.canvas.create_image(test.img.size[0]/2, test.img.size[1]/2, anchor=CENTER, image=test.gambar)\n",
    "        \n",
    "    def gui(test, size): #set gui\n",
    "        test.frame_open = Frame(test.master, bd=2, bg=\"White\")\n",
    "        test.canvas = Canvas(test.master, height = test.gui_size[1]*0.9, width=test.gui_size[0]*0.9)\n",
    "        test.canvas.grid(row = 1)\n",
    "        test.menu = Frame(test.master, pady=3)\n",
    "        test.menu.grid(row = 4, sticky=W)\n",
    "        Button(test.menu, text='Browse', command=test.bukagambar).grid(row=3, column=1,sticky=N+S+E+W)"
   ]
  },
  {
   "cell_type": "markdown",
   "metadata": {},
   "source": [
    "main"
   ]
  },
  {
   "cell_type": "code",
   "execution_count": 3,
   "metadata": {},
   "outputs": [],
   "source": [
    "window = Tk()\n",
    "window.title(\"Tugas 1 - 1301150031 - Brama Hendra Mahendra\")\n",
    "testpcd(window)\n",
    "window.mainloop()"
   ]
  },
  {
   "cell_type": "code",
   "execution_count": null,
   "metadata": {},
   "outputs": [],
   "source": []
  }
 ],
 "metadata": {
  "kernelspec": {
   "display_name": "Python 3",
   "language": "python",
   "name": "python3"
  },
  "language_info": {
   "codemirror_mode": {
    "name": "ipython",
    "version": 3
   },
   "file_extension": ".py",
   "mimetype": "text/x-python",
   "name": "python",
   "nbconvert_exporter": "python",
   "pygments_lexer": "ipython3",
   "version": "3.6.5"
  }
 },
 "nbformat": 4,
 "nbformat_minor": 2
}
