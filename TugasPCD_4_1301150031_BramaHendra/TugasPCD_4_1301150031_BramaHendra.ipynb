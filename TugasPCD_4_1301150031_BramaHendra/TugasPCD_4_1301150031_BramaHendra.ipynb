{
 "cells": [
  {
   "cell_type": "markdown",
   "metadata": {},
   "source": [
    "import python"
   ]
  },
  {
   "cell_type": "code",
   "execution_count": 1,
   "metadata": {},
   "outputs": [],
   "source": [
    "from tkinter import *\n",
    "from tkinter import filedialog\n",
    "from PIL import ImageTk, Image\n",
    "import matplotlib.pyplot as plt\n",
    "import numpy as np"
   ]
  },
  {
   "cell_type": "markdown",
   "metadata": {},
   "source": [
    "buat class untuk menampung function"
   ]
  },
  {
   "cell_type": "code",
   "execution_count": 2,
   "metadata": {},
   "outputs": [],
   "source": [
    "class testpcd:\n",
    "\n",
    "    def __init__(test, master): #init\n",
    "        test.master = master\n",
    "        test.gui_size = (300, 300)\n",
    "        test.gui(test.gui_size)\n",
    "        test.height = 200\n",
    "        \n",
    "    def bukagambar(test): #membuka file\n",
    "        test.dir = filedialog.askopenfilename() \n",
    "        temp = Image.open(test.dir) \n",
    "        new_size = int((float(temp.size[0])*float(test.height / float(temp.size[1])))) \n",
    "        test.img = temp.resize((new_size, test.height)) \n",
    "        test.gambar = ImageTk.PhotoImage(test.img) \n",
    "        test.canvas.delete(ALL) \n",
    "        test.canvas.create_image(test.img.size[0]/2, test.img.size[1]/2, anchor=CENTER, image=test.gambar)\n",
    "        \n",
    "    def grayscale(test):\n",
    "        gambar = test.img.copy()\n",
    "        for x in range(gambar.size[0]):\n",
    "            for y in range(gambar.size[1]):\n",
    "                r, g, b = gambar.getpixel((x, y))\n",
    "                gambar.putpixel((x, y), (int((r+g+b)/3), int((r+g+b)/3), int((r+g+b)/3)))\n",
    "        test.img = gambar\n",
    "        test.showImg()\n",
    "    \n",
    "    def zoomIn(test):\n",
    "        gambar = Image.new(\"RGB\", (test.img.size[0]*2, test.img.size[1]*2))\n",
    "        for x in range(0, gambar.size[0], 2):\n",
    "            for y in range(0, gambar.size[1], 2):\n",
    "                r, g, b = test.img.getpixel((int(x/2), int(y/2)))\n",
    "                gambar.putpixel((x, y), (r, g, b))\n",
    "                gambar.putpixel((x+1, y), (r, g, b))\n",
    "                gambar.putpixel((x, y+1), (r, g, b))\n",
    "                gambar.putpixel((x+1, y+1), (r, g, b))\n",
    "        test.img = gambar\n",
    "        test.showImg()\n",
    "        \n",
    "    def bright(test):\n",
    "        gambar = test.img.copy()\n",
    "        bright = 10\n",
    "        for x in range(gambar.size[0]):\n",
    "            for y in range(gambar.size[1]):\n",
    "                r, g, b = gambar.getpixel((x, y))\n",
    "                \n",
    "                if(r<255-bright):\n",
    "                    if(g<255-bright):\n",
    "                        if(b<255-bright):\n",
    "                            gambar.putpixel((x, y), (r+bright,g+bright,b+bright))\n",
    "                        else:\n",
    "                            gambar.putpixel((x, y), (r+bright,g+bright,255))\n",
    "                    else:\n",
    "                        gambar.putpixel((x, y), (r+bright,255,255))\n",
    "                else:\n",
    "                    gambar.putpixel((x, y), (255,255,255))\n",
    "\n",
    "        test.img = gambar\n",
    "        test.showImg()\n",
    "\n",
    "\n",
    "    def zoomOut(test):\n",
    "        gambar = Image.new(\"RGB\", (int(test.img.size[0]/2), int(test.img.size[1]/2)))\n",
    "        for x in range(0, test.img.size[0], 2):\n",
    "            for y in range(0, test.img.size[1], 2):\n",
    "                r, g, b = test.img.getpixel((x+1, y))\n",
    "                r1, g1, b1 = test.img.getpixel((x+1, y))\n",
    "                r2, g2, b2 = test.img.getpixel((x, y+1))\n",
    "                r3, g3, b3 = test.img.getpixel((x+1, y+1))\n",
    "                gambar.putpixel((int(x/2), int(y/2)), (int((r+r1+r2+r3)/4), int((g+g1+g2+g3)/4), int((b+b1+b2+b3)/4)))\n",
    "        test.img = gambar\n",
    "        test.showImg()\n",
    "    \n",
    "    def histogram(test):\n",
    "        gambar = test.img.copy()\n",
    "        arrR = np.zeros(255)\n",
    "        arrG = np.zeros(255)\n",
    "        arrB = np.zeros(255)\n",
    "        for x in range(gambar.size[0]):\n",
    "            for y in range(gambar.size[1]):\n",
    "                r, g, b = gambar.getpixel((x, y))\n",
    "                arrR[r] = arrR[r] +1\n",
    "                arrG[g] = arrG[g] +1\n",
    "                arrB[b] = arrB[b] +1\n",
    "        plt.plot(range(0,255),arrR)\n",
    "        plt.plot(range(0,255),arrG)\n",
    "        plt.plot(range(0,255),arrB)\n",
    "        plt.show()\n",
    "        \n",
    "    def gui(test, size): #set gui\n",
    "        test.frame_open = Frame(test.master, bd=2, bg=\"White\")\n",
    "        test.canvas = Canvas(test.master, height = test.gui_size[1]*0.9, width=test.gui_size[0]*0.9)\n",
    "        test.canvas.grid(row = 1)\n",
    "        test.menu = Frame(test.master, pady=3)\n",
    "        test.menu.grid(row = 4, sticky=W)\n",
    "        Button(test.menu, text='Browse', command=test.bukagambar).grid(row=3, column=1,sticky=N+S+E+W)\n",
    "        Button(test.menu, text='Grayscale', command=test.grayscale).grid(row=3, column=2,sticky=N+S+E+W)\n",
    "        Button(test.menu, text='Zoom In', command=test.zoomIn).grid(row=3, column=3,sticky=N+S+E+W)\n",
    "        Button(test.menu, text='Zoom Out', command=test.zoomOut).grid(row=3, column=4,sticky=N+S+E+W)\n",
    "        Button(test.menu, text='Brightness', command=test.bright).grid(row=3, column=5,sticky=N+S+E+W)\n",
    "        Button(test.menu, text='Histogram', command=test.histogram).grid(row=3, column=11,sticky=N+S+E+W)"
   ]
  },
  {
   "cell_type": "code",
   "execution_count": 3,
   "metadata": {},
   "outputs": [],
   "source": [
    "window = Tk()\n",
    "window.title(\"Tugas 3 - 1301150031 - Brama Hendra Mahendra\")\n",
    "testpcd(window)\n",
    "window.mainloop()"
   ]
  },
  {
   "cell_type": "code",
   "execution_count": null,
   "metadata": {},
   "outputs": [],
   "source": []
  }
 ],
 "metadata": {
  "kernelspec": {
   "display_name": "Python 3",
   "language": "python",
   "name": "python3"
  },
  "language_info": {
   "codemirror_mode": {
    "name": "ipython",
    "version": 3
   },
   "file_extension": ".py",
   "mimetype": "text/x-python",
   "name": "python",
   "nbconvert_exporter": "python",
   "pygments_lexer": "ipython3",
   "version": "3.6.5"
  }
 },
 "nbformat": 4,
 "nbformat_minor": 2
}
